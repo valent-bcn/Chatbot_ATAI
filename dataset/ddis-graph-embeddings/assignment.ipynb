{
 "cells": [
  {
   "cell_type": "markdown",
   "metadata": {},
   "source": [
    "# Embeddings for the DDIS Movie Graph"
   ]
  },
  {
   "cell_type": "markdown",
   "metadata": {},
   "source": [
    "## Setup"
   ]
  },
  {
   "cell_type": "code",
   "execution_count": 1,
   "metadata": {},
   "outputs": [],
   "source": [
    "# imports\n",
    "import csv\n",
    "import numpy as np\n",
    "import os\n",
    "import rdflib\n",
    "import pandas as pd\n",
    "from sklearn.metrics import pairwise_distances"
   ]
  },
  {
   "cell_type": "code",
   "execution_count": 2,
   "metadata": {},
   "outputs": [],
   "source": [
    "# define some prefixes\n",
    "WD = rdflib.Namespace('http://www.wikidata.org/entity/')\n",
    "WDT = rdflib.Namespace('http://www.wikidata.org/prop/direct/')\n",
    "DDIS = rdflib.Namespace('http://ddis.ch/atai/')\n",
    "RDFS = rdflib.namespace.RDFS\n",
    "SCHEMA = rdflib.Namespace('http://schema.org/')"
   ]
  },
  {
   "cell_type": "markdown",
   "metadata": {},
   "source": [
    "## Load the data"
   ]
  },
  {
   "cell_type": "markdown",
   "metadata": {},
   "source": [
    "**TODO: Set the correct path to the movie graph file**\n",
    "\n",
    "Download the movie graph file from https://files.ifi.uzh.ch/ddis/teaching/2021/ATAI/dataset/"
   ]
  },
  {
   "cell_type": "code",
   "execution_count": 3,
   "metadata": {},
   "outputs": [],
   "source": [
    "# load the graph\n",
    "graph = rdflib.Graph().parse('ddis-movie-graph.nt', format='turtle')"
   ]
  },
  {
   "cell_type": "code",
   "execution_count": 4,
   "metadata": {},
   "outputs": [],
   "source": [
    "# load the embeddings\n",
    "entity_emb = np.load('entity_embeds.npy')\n",
    "relation_emb = np.load('relation_embeds.npy')"
   ]
  },
  {
   "cell_type": "code",
   "execution_count": 5,
   "metadata": {},
   "outputs": [],
   "source": [
    "# load the dictionaries\n",
    "with open('entity_ids.del', 'r') as ifile:\n",
    "    ent2id = {rdflib.term.URIRef(ent): int(idx) for idx, ent in csv.reader(ifile, delimiter='\\t')}\n",
    "    id2ent = {v: k for k, v in ent2id.items()}\n",
    "with open('relation_ids.del', 'r') as ifile:\n",
    "    rel2id = {rdflib.term.URIRef(rel): int(idx) for idx, rel in csv.reader(ifile, delimiter='\\t')}\n",
    "    id2rel = {v: k for k, v in rel2id.items()}"
   ]
  },
  {
   "cell_type": "code",
   "execution_count": 6,
   "metadata": {},
   "outputs": [],
   "source": [
    "ent2lbl = {ent: str(lbl) for ent, lbl in graph.subject_objects(RDFS.label)}\n",
    "lbl2ent = {lbl: ent for ent, lbl in ent2lbl.items()}"
   ]
  },
  {
   "cell_type": "markdown",
   "metadata": {},
   "source": [
    "## Inspect the data"
   ]
  },
  {
   "cell_type": "code",
   "execution_count": 7,
   "metadata": {},
   "outputs": [
    {
     "data": {
      "text/plain": [
       "2056777"
      ]
     },
     "execution_count": 7,
     "metadata": {},
     "output_type": "execute_result"
    }
   ],
   "source": [
    "# number of triples in the graph\n",
    "len(graph)"
   ]
  },
  {
   "cell_type": "code",
   "execution_count": 8,
   "metadata": {},
   "outputs": [
    {
     "data": {
      "text/plain": [
       "158900"
      ]
     },
     "execution_count": 8,
     "metadata": {},
     "output_type": "execute_result"
    }
   ],
   "source": [
    "# number of entities in the graph\n",
    "triples = {(s, p, o) for s,p,o in graph.triples((None, None, None)) if isinstance(o, rdflib.term.URIRef)}\n",
    "len({s for s,p,o in triples} | {o for s,p,o in triples})"
   ]
  },
  {
   "cell_type": "code",
   "execution_count": 9,
   "metadata": {},
   "outputs": [
    {
     "data": {
      "text/plain": [
       "(158901, 256)"
      ]
     },
     "execution_count": 9,
     "metadata": {},
     "output_type": "execute_result"
    }
   ],
   "source": [
    "# entity embedding size\n",
    "entity_emb.shape"
   ]
  },
  {
   "cell_type": "code",
   "execution_count": 10,
   "metadata": {},
   "outputs": [
    {
     "data": {
      "text/plain": [
       "(248, 256)"
      ]
     },
     "execution_count": 10,
     "metadata": {},
     "output_type": "execute_result"
    }
   ],
   "source": [
    "# relation embedding size\n",
    "relation_emb.shape"
   ]
  },
  {
   "cell_type": "markdown",
   "metadata": {},
   "source": [
    "## Finding errors"
   ]
  },
  {
   "cell_type": "code",
   "execution_count": 11,
   "metadata": {},
   "outputs": [
    {
     "data": {
      "text/plain": [
       "{'Q329737': 'butcher'}"
      ]
     },
     "execution_count": 11,
     "metadata": {},
     "output_type": "execute_result"
    }
   ],
   "source": [
    "# let's see what our graph thinks the occupation of Jean Van Hamme is\n",
    "professions = set(graph.query('''\n",
    "    prefix wdt: <http://www.wikidata.org/prop/direct/>\n",
    "    prefix wd: <http://www.wikidata.org/entity/>\n",
    "    \n",
    "    SELECT ?obj ?lbl WHERE {\n",
    "        ?ent rdfs:label \"Jean Van Hamme\"@en .\n",
    "        ?ent wdt:P106 ?obj .\n",
    "        ?obj rdfs:label ?lbl .\n",
    "    }\n",
    "    '''))\n",
    "{ent[len(WD):]: str(lbl) for ent, lbl in professions}"
   ]
  },
  {
   "cell_type": "code",
   "execution_count": 12,
   "metadata": {},
   "outputs": [],
   "source": [
    "# \"Jean Van Hamme\" entity\n",
    "head = entity_emb[ent2id[WD.Q428160]]\n",
    "# \"occupation\" relation\n",
    "pred = relation_emb[rel2id[WDT.P106]]\n",
    "# add vectors according to TransE scoring function.\n",
    "lhs = head + pred\n",
    "# compute distance to *any* entity\n",
    "dist = pairwise_distances(lhs.reshape(1, -1), entity_emb).reshape(-1)\n",
    "# find most plausible entities\n",
    "most_likely = dist.argsort()\n",
    "# compute ranks of entities\n",
    "ranks = dist.argsort().argsort()"
   ]
  },
  {
   "cell_type": "code",
   "execution_count": 13,
   "metadata": {},
   "outputs": [
    {
     "data": {
      "text/html": [
       "<div>\n",
       "<style scoped>\n",
       "    .dataframe tbody tr th:only-of-type {\n",
       "        vertical-align: middle;\n",
       "    }\n",
       "\n",
       "    .dataframe tbody tr th {\n",
       "        vertical-align: top;\n",
       "    }\n",
       "\n",
       "    .dataframe thead th {\n",
       "        text-align: right;\n",
       "    }\n",
       "</style>\n",
       "<table border=\"1\" class=\"dataframe\">\n",
       "  <thead>\n",
       "    <tr style=\"text-align: right;\">\n",
       "      <th></th>\n",
       "      <th>Occupation</th>\n",
       "      <th>Score</th>\n",
       "      <th>Rank</th>\n",
       "    </tr>\n",
       "  </thead>\n",
       "  <tbody>\n",
       "    <tr>\n",
       "      <th>0</th>\n",
       "      <td>butcher</td>\n",
       "      <td>5196.63623</td>\n",
       "      <td>86817</td>\n",
       "    </tr>\n",
       "  </tbody>\n",
       "</table>\n",
       "</div>"
      ],
      "text/plain": [
       "  Occupation       Score   Rank\n",
       "0    butcher  5196.63623  86817"
      ]
     },
     "execution_count": 13,
     "metadata": {},
     "output_type": "execute_result"
    }
   ],
   "source": [
    "# show scores for (Jean Van Hamme, occupation, butcher)\n",
    "pd.DataFrame([(str(lbl), dist[ent2id[ent]], ranks[ent2id[ent]]) for ent, lbl in professions],\n",
    "        columns=('Occupation', 'Score', 'Rank'))"
   ]
  },
  {
   "cell_type": "code",
   "execution_count": 14,
   "metadata": {},
   "outputs": [
    {
     "data": {
      "text/html": [
       "<div>\n",
       "<style scoped>\n",
       "    .dataframe tbody tr th:only-of-type {\n",
       "        vertical-align: middle;\n",
       "    }\n",
       "\n",
       "    .dataframe tbody tr th {\n",
       "        vertical-align: top;\n",
       "    }\n",
       "\n",
       "    .dataframe thead th {\n",
       "        text-align: right;\n",
       "    }\n",
       "</style>\n",
       "<table border=\"1\" class=\"dataframe\">\n",
       "  <thead>\n",
       "    <tr style=\"text-align: right;\">\n",
       "      <th></th>\n",
       "      <th>Entity</th>\n",
       "      <th>Label</th>\n",
       "      <th>Score</th>\n",
       "      <th>Rank</th>\n",
       "    </tr>\n",
       "  </thead>\n",
       "  <tbody>\n",
       "    <tr>\n",
       "      <th>0</th>\n",
       "      <td>Q36180</td>\n",
       "      <td>writer</td>\n",
       "      <td>3223.151367</td>\n",
       "      <td>1</td>\n",
       "    </tr>\n",
       "    <tr>\n",
       "      <th>1</th>\n",
       "      <td>Q33999</td>\n",
       "      <td>actor</td>\n",
       "      <td>3382.129883</td>\n",
       "      <td>2</td>\n",
       "    </tr>\n",
       "    <tr>\n",
       "      <th>2</th>\n",
       "      <td>Q6625963</td>\n",
       "      <td>novelist</td>\n",
       "      <td>3397.582520</td>\n",
       "      <td>3</td>\n",
       "    </tr>\n",
       "    <tr>\n",
       "      <th>3</th>\n",
       "      <td>Q1930187</td>\n",
       "      <td>journalist</td>\n",
       "      <td>3492.735352</td>\n",
       "      <td>4</td>\n",
       "    </tr>\n",
       "    <tr>\n",
       "      <th>4</th>\n",
       "      <td>Q4610556</td>\n",
       "      <td>model</td>\n",
       "      <td>3549.961182</td>\n",
       "      <td>5</td>\n",
       "    </tr>\n",
       "    <tr>\n",
       "      <th>5</th>\n",
       "      <td>Q639669</td>\n",
       "      <td>musician</td>\n",
       "      <td>3616.397949</td>\n",
       "      <td>6</td>\n",
       "    </tr>\n",
       "    <tr>\n",
       "      <th>6</th>\n",
       "      <td>Q67311526</td>\n",
       "      <td>Obalky knih.cz</td>\n",
       "      <td>3628.230957</td>\n",
       "      <td>7</td>\n",
       "    </tr>\n",
       "    <tr>\n",
       "      <th>7</th>\n",
       "      <td>Q150</td>\n",
       "      <td>French</td>\n",
       "      <td>3667.630615</td>\n",
       "      <td>8</td>\n",
       "    </tr>\n",
       "    <tr>\n",
       "      <th>8</th>\n",
       "      <td>Q1028181</td>\n",
       "      <td>painter</td>\n",
       "      <td>3694.667480</td>\n",
       "      <td>9</td>\n",
       "    </tr>\n",
       "    <tr>\n",
       "      <th>9</th>\n",
       "      <td>Q245068</td>\n",
       "      <td>comedian</td>\n",
       "      <td>3744.303955</td>\n",
       "      <td>10</td>\n",
       "    </tr>\n",
       "  </tbody>\n",
       "</table>\n",
       "</div>"
      ],
      "text/plain": [
       "      Entity           Label        Score  Rank\n",
       "0     Q36180          writer  3223.151367     1\n",
       "1     Q33999           actor  3382.129883     2\n",
       "2   Q6625963        novelist  3397.582520     3\n",
       "3   Q1930187      journalist  3492.735352     4\n",
       "4   Q4610556           model  3549.961182     5\n",
       "5    Q639669        musician  3616.397949     6\n",
       "6  Q67311526  Obalky knih.cz  3628.230957     7\n",
       "7       Q150          French  3667.630615     8\n",
       "8   Q1028181         painter  3694.667480     9\n",
       "9    Q245068        comedian  3744.303955    10"
      ]
     },
     "execution_count": 14,
     "metadata": {},
     "output_type": "execute_result"
    }
   ],
   "source": [
    "# what would be more plausible occupations?\n",
    "pd.DataFrame([\n",
    "    (id2ent[idx][len(WD):], ent2lbl[id2ent[idx]], dist[idx], rank+1)\n",
    "    for rank, idx in enumerate(most_likely[:10])],\n",
    "    columns=('Entity', 'Label', 'Score', 'Rank'))"
   ]
  },
  {
   "cell_type": "markdown",
   "metadata": {},
   "source": [
    "## Entity Similarity"
   ]
  },
  {
   "cell_type": "code",
   "execution_count": 15,
   "metadata": {},
   "outputs": [
    {
     "data": {
      "text/html": [
       "<div>\n",
       "<style scoped>\n",
       "    .dataframe tbody tr th:only-of-type {\n",
       "        vertical-align: middle;\n",
       "    }\n",
       "\n",
       "    .dataframe tbody tr th {\n",
       "        vertical-align: top;\n",
       "    }\n",
       "\n",
       "    .dataframe thead th {\n",
       "        text-align: right;\n",
       "    }\n",
       "</style>\n",
       "<table border=\"1\" class=\"dataframe\">\n",
       "  <thead>\n",
       "    <tr style=\"text-align: right;\">\n",
       "      <th></th>\n",
       "      <th>Entity</th>\n",
       "      <th>Label</th>\n",
       "      <th>Score</th>\n",
       "      <th>Rank</th>\n",
       "    </tr>\n",
       "  </thead>\n",
       "  <tbody>\n",
       "    <tr>\n",
       "      <th>0</th>\n",
       "      <td>Q102225</td>\n",
       "      <td>Harry Potter and the Goblet of Fire</td>\n",
       "      <td>0.000000</td>\n",
       "      <td>1</td>\n",
       "    </tr>\n",
       "    <tr>\n",
       "      <th>1</th>\n",
       "      <td>Q102235</td>\n",
       "      <td>Harry Potter and the Order of the Phoenix</td>\n",
       "      <td>1839.364746</td>\n",
       "      <td>2</td>\n",
       "    </tr>\n",
       "    <tr>\n",
       "      <th>2</th>\n",
       "      <td>Q161678</td>\n",
       "      <td>Harry Potter and the Deathly Hallows – Part 1</td>\n",
       "      <td>1864.835327</td>\n",
       "      <td>3</td>\n",
       "    </tr>\n",
       "    <tr>\n",
       "      <th>3</th>\n",
       "      <td>Q161687</td>\n",
       "      <td>Harry Potter and the Half-Blood Prince</td>\n",
       "      <td>1895.976562</td>\n",
       "      <td>4</td>\n",
       "    </tr>\n",
       "    <tr>\n",
       "      <th>4</th>\n",
       "      <td>Q232009</td>\n",
       "      <td>Harry Potter and the Deathly Hallows – Part 2</td>\n",
       "      <td>1941.686646</td>\n",
       "      <td>5</td>\n",
       "    </tr>\n",
       "    <tr>\n",
       "      <th>5</th>\n",
       "      <td>Q102244</td>\n",
       "      <td>Harry Potter and the Chamber of Secrets</td>\n",
       "      <td>2000.969482</td>\n",
       "      <td>6</td>\n",
       "    </tr>\n",
       "    <tr>\n",
       "      <th>6</th>\n",
       "      <td>Q102438</td>\n",
       "      <td>Harry Potter and the Philosopher's Stone</td>\n",
       "      <td>2059.114502</td>\n",
       "      <td>7</td>\n",
       "    </tr>\n",
       "    <tr>\n",
       "      <th>7</th>\n",
       "      <td>Q102448</td>\n",
       "      <td>Harry Potter and the Prisoner of Azkaban</td>\n",
       "      <td>2140.694092</td>\n",
       "      <td>8</td>\n",
       "    </tr>\n",
       "    <tr>\n",
       "      <th>8</th>\n",
       "      <td>Q18199330</td>\n",
       "      <td>Fantastic Beasts and Where to Find Them</td>\n",
       "      <td>2350.040771</td>\n",
       "      <td>9</td>\n",
       "    </tr>\n",
       "    <tr>\n",
       "      <th>9</th>\n",
       "      <td>Q1880543</td>\n",
       "      <td>Harry Potter and the Deathly Hallows</td>\n",
       "      <td>2419.553467</td>\n",
       "      <td>10</td>\n",
       "    </tr>\n",
       "    <tr>\n",
       "      <th>10</th>\n",
       "      <td>Q216930</td>\n",
       "      <td>Harry Potter film series</td>\n",
       "      <td>2449.367432</td>\n",
       "      <td>11</td>\n",
       "    </tr>\n",
       "    <tr>\n",
       "      <th>11</th>\n",
       "      <td>Q849901</td>\n",
       "      <td>Harry Potter and the Goblet of Fire</td>\n",
       "      <td>2449.732178</td>\n",
       "      <td>12</td>\n",
       "    </tr>\n",
       "    <tr>\n",
       "      <th>12</th>\n",
       "      <td>Q18199331</td>\n",
       "      <td>Fantastic Beasts: The Crimes of Grindelwald</td>\n",
       "      <td>2490.106934</td>\n",
       "      <td>13</td>\n",
       "    </tr>\n",
       "    <tr>\n",
       "      <th>13</th>\n",
       "      <td>Q20735644</td>\n",
       "      <td>Me Before You</td>\n",
       "      <td>2509.801758</td>\n",
       "      <td>14</td>\n",
       "    </tr>\n",
       "    <tr>\n",
       "      <th>14</th>\n",
       "      <td>Q28146833</td>\n",
       "      <td>Severus Snape and the Marauders</td>\n",
       "      <td>2509.966797</td>\n",
       "      <td>15</td>\n",
       "    </tr>\n",
       "  </tbody>\n",
       "</table>\n",
       "</div>"
      ],
      "text/plain": [
       "       Entity                                          Label        Score  \\\n",
       "0     Q102225            Harry Potter and the Goblet of Fire     0.000000   \n",
       "1     Q102235      Harry Potter and the Order of the Phoenix  1839.364746   \n",
       "2     Q161678  Harry Potter and the Deathly Hallows – Part 1  1864.835327   \n",
       "3     Q161687         Harry Potter and the Half-Blood Prince  1895.976562   \n",
       "4     Q232009  Harry Potter and the Deathly Hallows – Part 2  1941.686646   \n",
       "5     Q102244        Harry Potter and the Chamber of Secrets  2000.969482   \n",
       "6     Q102438       Harry Potter and the Philosopher's Stone  2059.114502   \n",
       "7     Q102448       Harry Potter and the Prisoner of Azkaban  2140.694092   \n",
       "8   Q18199330        Fantastic Beasts and Where to Find Them  2350.040771   \n",
       "9    Q1880543           Harry Potter and the Deathly Hallows  2419.553467   \n",
       "10    Q216930                       Harry Potter film series  2449.367432   \n",
       "11    Q849901            Harry Potter and the Goblet of Fire  2449.732178   \n",
       "12  Q18199331    Fantastic Beasts: The Crimes of Grindelwald  2490.106934   \n",
       "13  Q20735644                                  Me Before You  2509.801758   \n",
       "14  Q28146833                Severus Snape and the Marauders  2509.966797   \n",
       "\n",
       "    Rank  \n",
       "0      1  \n",
       "1      2  \n",
       "2      3  \n",
       "3      4  \n",
       "4      5  \n",
       "5      6  \n",
       "6      7  \n",
       "7      8  \n",
       "8      9  \n",
       "9     10  \n",
       "10    11  \n",
       "11    12  \n",
       "12    13  \n",
       "13    14  \n",
       "14    15  "
      ]
     },
     "execution_count": 15,
     "metadata": {},
     "output_type": "execute_result"
    }
   ],
   "source": [
    "# which entities are similar to \"Harry Potter and the Goblet of Fire\"\n",
    "ent = ent2id[WD.Q102225]\n",
    "# we compare the embedding of the query entity to all other entity embeddings\n",
    "dist = pairwise_distances(entity_emb[ent].reshape(1, -1), entity_emb).reshape(-1)\n",
    "# order by plausibility\n",
    "most_likely = dist.argsort()\n",
    "\n",
    "pd.DataFrame([\n",
    "    (\n",
    "        id2ent[idx][len(WD):], # qid\n",
    "        ent2lbl[id2ent[idx]],  # label\n",
    "        dist[idx],             # score\n",
    "        rank+1,                # rank\n",
    "    )\n",
    "    for rank, idx in enumerate(most_likely[:15])],\n",
    "    columns=('Entity', 'Label', 'Score', 'Rank'))"
   ]
  },
  {
   "cell_type": "markdown",
   "metadata": {},
   "source": [
    "## Recovering categories"
   ]
  },
  {
   "cell_type": "code",
   "execution_count": 16,
   "metadata": {},
   "outputs": [
    {
     "data": {
      "text/plain": [
       "set()"
      ]
     },
     "execution_count": 16,
     "metadata": {},
     "output_type": "execute_result"
    }
   ],
   "source": [
    "# hmm, our graph contains no parent class of bridge (Q12280)...\n",
    "set(graph.objects(WD.Q12280, WDT.P279))"
   ]
  },
  {
   "cell_type": "code",
   "execution_count": 17,
   "metadata": {},
   "outputs": [
    {
     "data": {
      "text/plain": [
       "set()"
      ]
     },
     "execution_count": 17,
     "metadata": {},
     "output_type": "execute_result"
    }
   ],
   "source": [
    "# maybe an indirect subclass?\n",
    "set(graph.objects(WD.Q12280, DDIS.indirectSubclassOf))"
   ]
  },
  {
   "cell_type": "code",
   "execution_count": 18,
   "metadata": {},
   "outputs": [
    {
     "data": {
      "text/html": [
       "<div>\n",
       "<style scoped>\n",
       "    .dataframe tbody tr th:only-of-type {\n",
       "        vertical-align: middle;\n",
       "    }\n",
       "\n",
       "    .dataframe tbody tr th {\n",
       "        vertical-align: top;\n",
       "    }\n",
       "\n",
       "    .dataframe thead th {\n",
       "        text-align: right;\n",
       "    }\n",
       "</style>\n",
       "<table border=\"1\" class=\"dataframe\">\n",
       "  <thead>\n",
       "    <tr style=\"text-align: right;\">\n",
       "      <th></th>\n",
       "      <th>Entity</th>\n",
       "      <th>Label</th>\n",
       "      <th>Score</th>\n",
       "      <th>Rank</th>\n",
       "    </tr>\n",
       "  </thead>\n",
       "  <tbody>\n",
       "    <tr>\n",
       "      <th>0</th>\n",
       "      <td>Q12280</td>\n",
       "      <td>bridge</td>\n",
       "      <td>3145.157227</td>\n",
       "      <td>1</td>\n",
       "    </tr>\n",
       "    <tr>\n",
       "      <th>1</th>\n",
       "      <td>Q61457040</td>\n",
       "      <td>Ramsar site in Australia</td>\n",
       "      <td>5208.453125</td>\n",
       "      <td>2</td>\n",
       "    </tr>\n",
       "    <tr>\n",
       "      <th>2</th>\n",
       "      <td>Q6502866</td>\n",
       "      <td>cliffed coast</td>\n",
       "      <td>5241.154785</td>\n",
       "      <td>3</td>\n",
       "    </tr>\n",
       "    <tr>\n",
       "      <th>3</th>\n",
       "      <td>Q595452</td>\n",
       "      <td>baseball venue</td>\n",
       "      <td>5261.777832</td>\n",
       "      <td>4</td>\n",
       "    </tr>\n",
       "    <tr>\n",
       "      <th>4</th>\n",
       "      <td>Q19368170</td>\n",
       "      <td>Pont d'en Gómez</td>\n",
       "      <td>5276.720215</td>\n",
       "      <td>5</td>\n",
       "    </tr>\n",
       "    <tr>\n",
       "      <th>5</th>\n",
       "      <td>Q2463705</td>\n",
       "      <td>Special Protection Area</td>\n",
       "      <td>5281.016113</td>\n",
       "      <td>6</td>\n",
       "    </tr>\n",
       "    <tr>\n",
       "      <th>6</th>\n",
       "      <td>Q2066754</td>\n",
       "      <td>manor</td>\n",
       "      <td>5301.109863</td>\n",
       "      <td>7</td>\n",
       "    </tr>\n",
       "    <tr>\n",
       "      <th>7</th>\n",
       "      <td>Q17468479</td>\n",
       "      <td>district of Oulu</td>\n",
       "      <td>5323.046875</td>\n",
       "      <td>8</td>\n",
       "    </tr>\n",
       "    <tr>\n",
       "      <th>8</th>\n",
       "      <td>Q1049757</td>\n",
       "      <td>multi-purpose stadium</td>\n",
       "      <td>5326.457520</td>\n",
       "      <td>9</td>\n",
       "    </tr>\n",
       "    <tr>\n",
       "      <th>9</th>\n",
       "      <td>Q202570</td>\n",
       "      <td>Ferris wheel</td>\n",
       "      <td>5341.973633</td>\n",
       "      <td>10</td>\n",
       "    </tr>\n",
       "  </tbody>\n",
       "</table>\n",
       "</div>"
      ],
      "text/plain": [
       "      Entity                     Label        Score  Rank\n",
       "0     Q12280                    bridge  3145.157227     1\n",
       "1  Q61457040  Ramsar site in Australia  5208.453125     2\n",
       "2   Q6502866             cliffed coast  5241.154785     3\n",
       "3    Q595452            baseball venue  5261.777832     4\n",
       "4  Q19368170           Pont d'en Gómez  5276.720215     5\n",
       "5   Q2463705   Special Protection Area  5281.016113     6\n",
       "6   Q2066754                     manor  5301.109863     7\n",
       "7  Q17468479          district of Oulu  5323.046875     8\n",
       "8   Q1049757     multi-purpose stadium  5326.457520     9\n",
       "9    Q202570              Ferris wheel  5341.973633    10"
      ]
     },
     "execution_count": 18,
     "metadata": {},
     "output_type": "execute_result"
    }
   ],
   "source": [
    "# Let's see if we can recover this from embeddings...\n",
    "\n",
    "# set the head entity to bridge\n",
    "head = entity_emb[ent2id[WD.Q12280]]\n",
    "# let's try with wdt:P279 (subClassOf) first\n",
    "pred = relation_emb[rel2id[WDT.P279]]\n",
    "# combine according to the TransE scoring function\n",
    "lhs = head + pred\n",
    "# compute distance to *any* entity\n",
    "dist = pairwise_distances(lhs.reshape(1, -1), entity_emb).reshape(-1)\n",
    "# find most plausible tails\n",
    "most_likely = dist.argsort()\n",
    "# show most likely entities\n",
    "pd.DataFrame([\n",
    "    (id2ent[idx][len(WD):], ent2lbl[id2ent[idx]], dist[idx], rank+1)\n",
    "    for rank, idx in enumerate(most_likely[:10])],\n",
    "    columns=('Entity', 'Label', 'Score', 'Rank'))"
   ]
  },
  {
   "cell_type": "code",
   "execution_count": 19,
   "metadata": {},
   "outputs": [
    {
     "data": {
      "text/html": [
       "<div>\n",
       "<style scoped>\n",
       "    .dataframe tbody tr th:only-of-type {\n",
       "        vertical-align: middle;\n",
       "    }\n",
       "\n",
       "    .dataframe tbody tr th {\n",
       "        vertical-align: top;\n",
       "    }\n",
       "\n",
       "    .dataframe thead th {\n",
       "        text-align: right;\n",
       "    }\n",
       "</style>\n",
       "<table border=\"1\" class=\"dataframe\">\n",
       "  <thead>\n",
       "    <tr style=\"text-align: right;\">\n",
       "      <th></th>\n",
       "      <th>Entity</th>\n",
       "      <th>Label</th>\n",
       "      <th>Score</th>\n",
       "      <th>Rank</th>\n",
       "    </tr>\n",
       "  </thead>\n",
       "  <tbody>\n",
       "    <tr>\n",
       "      <th>0</th>\n",
       "      <td>Q12280</td>\n",
       "      <td>bridge</td>\n",
       "      <td>4617.544922</td>\n",
       "      <td>1</td>\n",
       "    </tr>\n",
       "    <tr>\n",
       "      <th>1</th>\n",
       "      <td>Q27096213</td>\n",
       "      <td>geographic entity</td>\n",
       "      <td>5803.001465</td>\n",
       "      <td>2</td>\n",
       "    </tr>\n",
       "    <tr>\n",
       "      <th>2</th>\n",
       "      <td>Q95074</td>\n",
       "      <td>fictional character</td>\n",
       "      <td>6175.950195</td>\n",
       "      <td>3</td>\n",
       "    </tr>\n",
       "    <tr>\n",
       "      <th>3</th>\n",
       "      <td>Q19368170</td>\n",
       "      <td>Pont d'en Gómez</td>\n",
       "      <td>6219.216797</td>\n",
       "      <td>4</td>\n",
       "    </tr>\n",
       "    <tr>\n",
       "      <th>4</th>\n",
       "      <td>Q2282230</td>\n",
       "      <td>River Kwai bridge</td>\n",
       "      <td>6309.948242</td>\n",
       "      <td>5</td>\n",
       "    </tr>\n",
       "    <tr>\n",
       "      <th>5</th>\n",
       "      <td>Q1323635</td>\n",
       "      <td>Petit Pont</td>\n",
       "      <td>6325.951660</td>\n",
       "      <td>6</td>\n",
       "    </tr>\n",
       "    <tr>\n",
       "      <th>6</th>\n",
       "      <td>Q6502866</td>\n",
       "      <td>cliffed coast</td>\n",
       "      <td>6327.051270</td>\n",
       "      <td>7</td>\n",
       "    </tr>\n",
       "    <tr>\n",
       "      <th>7</th>\n",
       "      <td>Q1497364</td>\n",
       "      <td>building complex</td>\n",
       "      <td>6341.214355</td>\n",
       "      <td>8</td>\n",
       "    </tr>\n",
       "    <tr>\n",
       "      <th>8</th>\n",
       "      <td>Q2151232</td>\n",
       "      <td>townland</td>\n",
       "      <td>6382.717773</td>\n",
       "      <td>9</td>\n",
       "    </tr>\n",
       "    <tr>\n",
       "      <th>9</th>\n",
       "      <td>Q2080521</td>\n",
       "      <td>market hall</td>\n",
       "      <td>6385.139160</td>\n",
       "      <td>10</td>\n",
       "    </tr>\n",
       "  </tbody>\n",
       "</table>\n",
       "</div>"
      ],
      "text/plain": [
       "      Entity                Label        Score  Rank\n",
       "0     Q12280               bridge  4617.544922     1\n",
       "1  Q27096213    geographic entity  5803.001465     2\n",
       "2     Q95074  fictional character  6175.950195     3\n",
       "3  Q19368170      Pont d'en Gómez  6219.216797     4\n",
       "4   Q2282230    River Kwai bridge  6309.948242     5\n",
       "5   Q1323635           Petit Pont  6325.951660     6\n",
       "6   Q6502866        cliffed coast  6327.051270     7\n",
       "7   Q1497364     building complex  6341.214355     8\n",
       "8   Q2151232             townland  6382.717773     9\n",
       "9   Q2080521          market hall  6385.139160    10"
      ]
     },
     "execution_count": 19,
     "metadata": {},
     "output_type": "execute_result"
    }
   ],
   "source": [
    "# ... didn't really help.\n",
    "# Let's try ddis:indirectSubclassOf next\n",
    "\n",
    "# set the head entity to bridge\n",
    "head = entity_emb[ent2id[WD.Q12280]]\n",
    "# now we try ddis:indirectSubclassOf\n",
    "pred = relation_emb[rel2id[DDIS.indirectSubclassOf]]\n",
    "# combine according to the TransE scoring function\n",
    "lhs = head + pred\n",
    "# compute distance to *any* entity\n",
    "dist = pairwise_distances(lhs.reshape(1, -1), entity_emb).reshape(-1)\n",
    "# find most plausible tails\n",
    "most_likely = dist.argsort()\n",
    "# show most likely entities\n",
    "pd.DataFrame([\n",
    "    (id2ent[idx][len(WD):], ent2lbl[id2ent[idx]], dist[idx], rank+1)\n",
    "    for rank, idx in enumerate(most_likely[:10])],\n",
    "    columns=('Entity', 'Label', 'Score', 'Rank'))"
   ]
  }
 ],
 "metadata": {
  "kernelspec": {
   "display_name": "Python 3 (GCN)",
   "language": "python",
   "name": "gcn"
  },
  "language_info": {
   "codemirror_mode": {
    "name": "ipython",
    "version": 3
   },
   "file_extension": ".py",
   "mimetype": "text/x-python",
   "name": "python",
   "nbconvert_exporter": "python",
   "pygments_lexer": "ipython3",
   "version": "3.6.8"
  }
 },
 "nbformat": 4,
 "nbformat_minor": 2
}
