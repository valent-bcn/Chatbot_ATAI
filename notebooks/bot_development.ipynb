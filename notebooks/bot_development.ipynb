{
 "cells": [
  {
   "cell_type": "code",
   "execution_count": 26,
   "metadata": {
    "collapsed": true
   },
   "outputs": [
    {
     "name": "stdout",
     "output_type": "stream",
     "text": [
      "The closest label to 'designed ' is 'designed by'.\n"
     ]
    }
   ],
   "source": [
    "import numpy as np\n",
    "import Levenshtein\n",
    "import pandas as pd\n",
    "\n",
    "def create_vectors(labels):\n",
    "    size = len(labels)\n",
    "    distance_matrix = np.zeros((size, size))\n",
    "\n",
    "    for i in range(size):\n",
    "        for j in range(size):\n",
    "            distance_matrix[i][j] = Levenshtein.distance(labels[i], labels[j])\n",
    "\n",
    "    # Normalize each row to create unit vectors\n",
    "    norm = np.linalg.norm(distance_matrix, axis=1)\n",
    "    unit_vectors = distance_matrix / norm[:, np.newaxis]\n",
    "\n",
    "    return unit_vectors\n",
    "with open('../src/bot/relations.csv', 'r') as file:\n",
    "    labels = pd.read_csv(file)['Label'].tolist()\n",
    "\n",
    "vectors = create_vectors(labels)\n",
    "\n",
    "def find_closest(new_label, labels_names, vectors):\n",
    "    new_vector = np.array([Levenshtein.distance(new_label, label) for label in labels_names])\n",
    "    new_vector = new_vector / np.linalg.norm(new_vector)  # Normalize the new vector\n",
    "\n",
    "    # Compute cosine similarity\n",
    "    similarity = np.dot(vectors, new_vector)\n",
    "\n",
    "    # Find the index of the highest similarity score\n",
    "    closest_index = np.argmax(similarity)\n",
    "    return labels_names[closest_index]\n",
    "\n",
    "# Example query\n",
    "new_label = \"designed \"\n",
    "closest_label = find_closest(new_label, labels, vectors)\n",
    "print(f\"The closest label to '{new_label}' is '{closest_label}'.\")\n"
   ]
  },
  {
   "cell_type": "code",
   "execution_count": 11,
   "outputs": [
    {
     "ename": "KeyboardInterrupt",
     "evalue": "",
     "output_type": "error",
     "traceback": [
      "\u001B[0;31m---------------------------------------------------------------------------\u001B[0m",
      "\u001B[0;31mKeyboardInterrupt\u001B[0m                         Traceback (most recent call last)",
      "Cell \u001B[0;32mIn[11], line 21\u001B[0m\n\u001B[1;32m     18\u001B[0m \u001B[38;5;28;01mwith\u001B[39;00m \u001B[38;5;28mopen\u001B[39m(\u001B[38;5;124m'\u001B[39m\u001B[38;5;124m../src/bot/films.csv\u001B[39m\u001B[38;5;124m'\u001B[39m, \u001B[38;5;124m'\u001B[39m\u001B[38;5;124mr\u001B[39m\u001B[38;5;124m'\u001B[39m) \u001B[38;5;28;01mas\u001B[39;00m file:\n\u001B[1;32m     19\u001B[0m     film_labels \u001B[38;5;241m=\u001B[39m pd\u001B[38;5;241m.\u001B[39mread_csv(file)[\u001B[38;5;124m'\u001B[39m\u001B[38;5;124mLabel\u001B[39m\u001B[38;5;124m'\u001B[39m]\u001B[38;5;241m.\u001B[39mtolist()\n\u001B[0;32m---> 21\u001B[0m vectors \u001B[38;5;241m=\u001B[39m create_vectors(film_labels)\n\u001B[1;32m     24\u001B[0m \u001B[38;5;28;01mdef\u001B[39;00m \u001B[38;5;21mfind_closest\u001B[39m(new_film, film_names, vectors):\n\u001B[1;32m     25\u001B[0m     new_vector \u001B[38;5;241m=\u001B[39m np\u001B[38;5;241m.\u001B[39marray([Levenshtein\u001B[38;5;241m.\u001B[39mdistance(new_film, film) \u001B[38;5;28;01mfor\u001B[39;00m film \u001B[38;5;129;01min\u001B[39;00m film_names])\n",
      "Cell \u001B[0;32mIn[11], line 10\u001B[0m, in \u001B[0;36mcreate_vectors\u001B[0;34m(film_names)\u001B[0m\n\u001B[1;32m      8\u001B[0m \u001B[38;5;28;01mfor\u001B[39;00m i \u001B[38;5;129;01min\u001B[39;00m \u001B[38;5;28mrange\u001B[39m(size):\n\u001B[1;32m      9\u001B[0m     \u001B[38;5;28;01mfor\u001B[39;00m j \u001B[38;5;129;01min\u001B[39;00m \u001B[38;5;28mrange\u001B[39m(size):\n\u001B[0;32m---> 10\u001B[0m         distance_matrix[i][j] \u001B[38;5;241m=\u001B[39m Levenshtein\u001B[38;5;241m.\u001B[39mdistance(film_names[i], film_names[j])\n\u001B[1;32m     12\u001B[0m \u001B[38;5;66;03m# Normalize each row to create unit vectors\u001B[39;00m\n\u001B[1;32m     13\u001B[0m norm \u001B[38;5;241m=\u001B[39m np\u001B[38;5;241m.\u001B[39mlinalg\u001B[38;5;241m.\u001B[39mnorm(distance_matrix, axis\u001B[38;5;241m=\u001B[39m\u001B[38;5;241m1\u001B[39m)\n",
      "\u001B[0;31mKeyboardInterrupt\u001B[0m: "
     ]
    }
   ],
   "source": [
    "import numpy as np\n",
    "import Levenshtein\n",
    "\n",
    "def create_vectors(film_names):\n",
    "    size = len(film_names)\n",
    "    distance_matrix = np.zeros((size, size))\n",
    "\n",
    "    for i in range(size):\n",
    "        for j in range(size):\n",
    "            distance_matrix[i][j] = Levenshtein.distance(film_names[i], film_names[j])\n",
    "\n",
    "    # Normalize each row to create unit vectors\n",
    "    norm = np.linalg.norm(distance_matrix, axis=1)\n",
    "    unit_vectors = distance_matrix / norm[:, np.newaxis]\n",
    "\n",
    "    return unit_vectors\n",
    "\n",
    "with open('../src/bot/films.csv', 'r') as file:\n",
    "    film_labels = pd.read_csv(file)['Label'].tolist()\n",
    "\n",
    "vectors = create_vectors(film_labels)\n",
    "\n",
    "\n",
    "def find_closest(new_film, film_names, vectors):\n",
    "    new_vector = np.array([Levenshtein.distance(new_film, film) for film in film_names])\n",
    "    new_vector = new_vector / np.linalg.norm(new_vector)  # Normalize the new vector\n",
    "\n",
    "    # Compute cosine similarity\n",
    "    similarity = np.dot(vectors, new_vector)\n",
    "\n",
    "    # Find the index of the highest similarity score\n",
    "    closest_index = np.argmax(similarity)\n",
    "    return film_names[closest_index]\n",
    "\n",
    "# Example query\n",
    "new_film = \"Star Wars: The Last Jedi\"\n",
    "closest_film = find_closest(new_film, film_labels, vectors)\n",
    "print(f\"The closest film to '{new_film}' is '{closest_film}'.\")\n"
   ],
   "metadata": {
    "collapsed": false
   }
  },
  {
   "cell_type": "code",
   "execution_count": null,
   "outputs": [],
   "source": [],
   "metadata": {
    "collapsed": false
   }
  }
 ],
 "metadata": {
  "kernelspec": {
   "display_name": "Python 3",
   "language": "python",
   "name": "python3"
  },
  "language_info": {
   "codemirror_mode": {
    "name": "ipython",
    "version": 2
   },
   "file_extension": ".py",
   "mimetype": "text/x-python",
   "name": "python",
   "nbconvert_exporter": "python",
   "pygments_lexer": "ipython2",
   "version": "2.7.6"
  }
 },
 "nbformat": 4,
 "nbformat_minor": 0
}
