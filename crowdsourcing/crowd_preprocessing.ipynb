{
 "cells": [
  {
   "cell_type": "code",
   "execution_count": 38,
   "metadata": {},
   "outputs": [
    {
     "data": {
      "text/plain": "   HITId HITTypeId                                 Title Reward  AssignmentId  \\\n0      1       7QT  Is this triple correct or incorrect?  $0.50             1   \n1      1       7QT  Is this triple correct or incorrect?  $0.50             2   \n2      1       7QT  Is this triple correct or incorrect?  $0.50             3   \n3      1       7QT  Is this triple correct or incorrect?  $0.50             4   \n4      1       7QT  Is this triple correct or incorrect?  $0.50             5   \n5      2       7QT  Is this triple correct or incorrect?  $0.50             6   \n6      2       7QT  Is this triple correct or incorrect?  $0.50             7   \n7      2       7QT  Is this triple correct or incorrect?  $0.50             8   \n8      2       7QT  Is this triple correct or incorrect?  $0.50             9   \n9      2       7QT  Is this triple correct or incorrect?  $0.50            10   \n\n      WorkerId AssignmentStatus  WorkTimeInSeconds LifetimeApprovalRate  \\\n0  2133ICYWE97        Submitted                 60                  99%   \n1  2133U7HKDLO        Submitted                 40                  40%   \n2  928UJANWZ12        Submitted                 50                  98%   \n3    1726JMZQW        Submitted                 80                  70%   \n4  2134U7HKDMM        Submitted                  2                  70%   \n5  2134U7HKDMM        Submitted                  2                  70%   \n6  2133ICYWE97        Submitted                120                  99%   \n7  928UJANWZ12        Submitted                 60                  98%   \n8    1726JMZQW        Submitted                 90                  70%   \n9  2133U7HKDLO        Submitted                 40                  40%   \n\n     Input1ID   Input2ID   Input3ID  AnswerID AnswerLabel FixPosition FixValue  \n0   wd:Q11621  wdt:P2142  792910554       1.0     CORRECT         NaN      NaN  \n1   wd:Q11621  wdt:P2142  792910554       1.0     CORRECT         yes      yes  \n2   wd:Q11621  wdt:P2142  792910554       2.0   INCORRECT         NaN      NaN  \n3   wd:Q11621  wdt:P2142  792910554       1.0     CORRECT         NaN      NaN  \n4   wd:Q11621  wdt:P2142  792910554       1.0     CORRECT         NaN      NaN  \n5  wd:Q603545  wdt:P2142    4300000       2.0   INCORRECT         NaN      NaN  \n6  wd:Q603545  wdt:P2142    4300000       1.0     CORRECT         NaN      NaN  \n7  wd:Q603545  wdt:P2142    4300000       1.0     CORRECT         NaN      NaN  \n8  wd:Q603545  wdt:P2142    4300000       1.0     CORRECT         NaN      NaN  \n9  wd:Q603545  wdt:P2142    4300000       1.0     CORRECT         yes      yes  ",
      "text/html": "<div>\n<style scoped>\n    .dataframe tbody tr th:only-of-type {\n        vertical-align: middle;\n    }\n\n    .dataframe tbody tr th {\n        vertical-align: top;\n    }\n\n    .dataframe thead th {\n        text-align: right;\n    }\n</style>\n<table border=\"1\" class=\"dataframe\">\n  <thead>\n    <tr style=\"text-align: right;\">\n      <th></th>\n      <th>HITId</th>\n      <th>HITTypeId</th>\n      <th>Title</th>\n      <th>Reward</th>\n      <th>AssignmentId</th>\n      <th>WorkerId</th>\n      <th>AssignmentStatus</th>\n      <th>WorkTimeInSeconds</th>\n      <th>LifetimeApprovalRate</th>\n      <th>Input1ID</th>\n      <th>Input2ID</th>\n      <th>Input3ID</th>\n      <th>AnswerID</th>\n      <th>AnswerLabel</th>\n      <th>FixPosition</th>\n      <th>FixValue</th>\n    </tr>\n  </thead>\n  <tbody>\n    <tr>\n      <th>0</th>\n      <td>1</td>\n      <td>7QT</td>\n      <td>Is this triple correct or incorrect?</td>\n      <td>$0.50</td>\n      <td>1</td>\n      <td>2133ICYWE97</td>\n      <td>Submitted</td>\n      <td>60</td>\n      <td>99%</td>\n      <td>wd:Q11621</td>\n      <td>wdt:P2142</td>\n      <td>792910554</td>\n      <td>1.0</td>\n      <td>CORRECT</td>\n      <td>NaN</td>\n      <td>NaN</td>\n    </tr>\n    <tr>\n      <th>1</th>\n      <td>1</td>\n      <td>7QT</td>\n      <td>Is this triple correct or incorrect?</td>\n      <td>$0.50</td>\n      <td>2</td>\n      <td>2133U7HKDLO</td>\n      <td>Submitted</td>\n      <td>40</td>\n      <td>40%</td>\n      <td>wd:Q11621</td>\n      <td>wdt:P2142</td>\n      <td>792910554</td>\n      <td>1.0</td>\n      <td>CORRECT</td>\n      <td>yes</td>\n      <td>yes</td>\n    </tr>\n    <tr>\n      <th>2</th>\n      <td>1</td>\n      <td>7QT</td>\n      <td>Is this triple correct or incorrect?</td>\n      <td>$0.50</td>\n      <td>3</td>\n      <td>928UJANWZ12</td>\n      <td>Submitted</td>\n      <td>50</td>\n      <td>98%</td>\n      <td>wd:Q11621</td>\n      <td>wdt:P2142</td>\n      <td>792910554</td>\n      <td>2.0</td>\n      <td>INCORRECT</td>\n      <td>NaN</td>\n      <td>NaN</td>\n    </tr>\n    <tr>\n      <th>3</th>\n      <td>1</td>\n      <td>7QT</td>\n      <td>Is this triple correct or incorrect?</td>\n      <td>$0.50</td>\n      <td>4</td>\n      <td>1726JMZQW</td>\n      <td>Submitted</td>\n      <td>80</td>\n      <td>70%</td>\n      <td>wd:Q11621</td>\n      <td>wdt:P2142</td>\n      <td>792910554</td>\n      <td>1.0</td>\n      <td>CORRECT</td>\n      <td>NaN</td>\n      <td>NaN</td>\n    </tr>\n    <tr>\n      <th>4</th>\n      <td>1</td>\n      <td>7QT</td>\n      <td>Is this triple correct or incorrect?</td>\n      <td>$0.50</td>\n      <td>5</td>\n      <td>2134U7HKDMM</td>\n      <td>Submitted</td>\n      <td>2</td>\n      <td>70%</td>\n      <td>wd:Q11621</td>\n      <td>wdt:P2142</td>\n      <td>792910554</td>\n      <td>1.0</td>\n      <td>CORRECT</td>\n      <td>NaN</td>\n      <td>NaN</td>\n    </tr>\n    <tr>\n      <th>5</th>\n      <td>2</td>\n      <td>7QT</td>\n      <td>Is this triple correct or incorrect?</td>\n      <td>$0.50</td>\n      <td>6</td>\n      <td>2134U7HKDMM</td>\n      <td>Submitted</td>\n      <td>2</td>\n      <td>70%</td>\n      <td>wd:Q603545</td>\n      <td>wdt:P2142</td>\n      <td>4300000</td>\n      <td>2.0</td>\n      <td>INCORRECT</td>\n      <td>NaN</td>\n      <td>NaN</td>\n    </tr>\n    <tr>\n      <th>6</th>\n      <td>2</td>\n      <td>7QT</td>\n      <td>Is this triple correct or incorrect?</td>\n      <td>$0.50</td>\n      <td>7</td>\n      <td>2133ICYWE97</td>\n      <td>Submitted</td>\n      <td>120</td>\n      <td>99%</td>\n      <td>wd:Q603545</td>\n      <td>wdt:P2142</td>\n      <td>4300000</td>\n      <td>1.0</td>\n      <td>CORRECT</td>\n      <td>NaN</td>\n      <td>NaN</td>\n    </tr>\n    <tr>\n      <th>7</th>\n      <td>2</td>\n      <td>7QT</td>\n      <td>Is this triple correct or incorrect?</td>\n      <td>$0.50</td>\n      <td>8</td>\n      <td>928UJANWZ12</td>\n      <td>Submitted</td>\n      <td>60</td>\n      <td>98%</td>\n      <td>wd:Q603545</td>\n      <td>wdt:P2142</td>\n      <td>4300000</td>\n      <td>1.0</td>\n      <td>CORRECT</td>\n      <td>NaN</td>\n      <td>NaN</td>\n    </tr>\n    <tr>\n      <th>8</th>\n      <td>2</td>\n      <td>7QT</td>\n      <td>Is this triple correct or incorrect?</td>\n      <td>$0.50</td>\n      <td>9</td>\n      <td>1726JMZQW</td>\n      <td>Submitted</td>\n      <td>90</td>\n      <td>70%</td>\n      <td>wd:Q603545</td>\n      <td>wdt:P2142</td>\n      <td>4300000</td>\n      <td>1.0</td>\n      <td>CORRECT</td>\n      <td>NaN</td>\n      <td>NaN</td>\n    </tr>\n    <tr>\n      <th>9</th>\n      <td>2</td>\n      <td>7QT</td>\n      <td>Is this triple correct or incorrect?</td>\n      <td>$0.50</td>\n      <td>10</td>\n      <td>2133U7HKDLO</td>\n      <td>Submitted</td>\n      <td>40</td>\n      <td>40%</td>\n      <td>wd:Q603545</td>\n      <td>wdt:P2142</td>\n      <td>4300000</td>\n      <td>1.0</td>\n      <td>CORRECT</td>\n      <td>yes</td>\n      <td>yes</td>\n    </tr>\n  </tbody>\n</table>\n</div>"
     },
     "execution_count": 38,
     "metadata": {},
     "output_type": "execute_result"
    }
   ],
   "source": [
    "# Preprocessing of the dataset crowd_data.tsv\n",
    "import pandas as pd\n",
    "import numpy as np\n",
    "import matplotlib.pyplot as plt\n",
    "\n",
    "# Load the dataset\n",
    "data = pd.read_csv('../dataset/crowd_data/crowd_data.tsv', sep='\\t')\n",
    "data.head(10)"
   ]
  },
  {
   "cell_type": "code",
   "execution_count": 39,
   "outputs": [
    {
     "name": "stdout",
     "output_type": "stream",
     "text": [
      "Initial length of the dataset:  305\n",
      "Number of mini tasks:  61\n",
      "\n",
      "Final length of the dataset:  162\n",
      "Number of mini tasks:  61\n"
     ]
    }
   ],
   "source": [
    "# Filter by LifetimeApprovalRate >= 70%\n",
    "print('Initial length of the dataset: ', len(data))\n",
    "print('Number of mini tasks: ', len(data['HITId'].unique()))\n",
    "data['LifetimeApprovalRate'] = data['LifetimeApprovalRate'].str.replace('%', '')\n",
    "data = data[pd.to_numeric(data['LifetimeApprovalRate']) > 70]\n",
    "print('\\nFinal length of the dataset: ', len(data))\n",
    "print('Number of mini tasks: ', len(data['HITId'].unique()))\n",
    "\n",
    "# remove \"wd:\" from the Inputs Ids\n",
    "data['Input1ID'] = data['Input1ID'].str.replace('wd:', '')\n",
    "data['Input2ID'] = data['Input2ID'].str.replace('wdt:', '') # Input2IDs are relations, therefore we delete the \"wdt:\"\n",
    "data['Input3ID'] = data['Input3ID'].str.replace('wd:', '')"
   ],
   "metadata": {
    "collapsed": false
   }
  },
  {
   "cell_type": "code",
   "execution_count": 40,
   "outputs": [
    {
     "data": {
      "text/plain": "    HITId  MajorityAnswer  CountAnswerID1  CountAnswerID2\n0       1             0.0               1               1\n1       2             1.0               2               0\n2       3             0.0               1               1\n3       4             2.0               0               2\n4       5             1.0               2               0\n..    ...             ...             ...             ...\n56     57             1.0               2               1\n57     58             2.0               0               3\n58     59             1.0               2               1\n59     60             1.0               2               1\n60     61             1.0               2               1\n\n[61 rows x 4 columns]",
      "text/html": "<div>\n<style scoped>\n    .dataframe tbody tr th:only-of-type {\n        vertical-align: middle;\n    }\n\n    .dataframe tbody tr th {\n        vertical-align: top;\n    }\n\n    .dataframe thead th {\n        text-align: right;\n    }\n</style>\n<table border=\"1\" class=\"dataframe\">\n  <thead>\n    <tr style=\"text-align: right;\">\n      <th></th>\n      <th>HITId</th>\n      <th>MajorityAnswer</th>\n      <th>CountAnswerID1</th>\n      <th>CountAnswerID2</th>\n    </tr>\n  </thead>\n  <tbody>\n    <tr>\n      <th>0</th>\n      <td>1</td>\n      <td>0.0</td>\n      <td>1</td>\n      <td>1</td>\n    </tr>\n    <tr>\n      <th>1</th>\n      <td>2</td>\n      <td>1.0</td>\n      <td>2</td>\n      <td>0</td>\n    </tr>\n    <tr>\n      <th>2</th>\n      <td>3</td>\n      <td>0.0</td>\n      <td>1</td>\n      <td>1</td>\n    </tr>\n    <tr>\n      <th>3</th>\n      <td>4</td>\n      <td>2.0</td>\n      <td>0</td>\n      <td>2</td>\n    </tr>\n    <tr>\n      <th>4</th>\n      <td>5</td>\n      <td>1.0</td>\n      <td>2</td>\n      <td>0</td>\n    </tr>\n    <tr>\n      <th>...</th>\n      <td>...</td>\n      <td>...</td>\n      <td>...</td>\n      <td>...</td>\n    </tr>\n    <tr>\n      <th>56</th>\n      <td>57</td>\n      <td>1.0</td>\n      <td>2</td>\n      <td>1</td>\n    </tr>\n    <tr>\n      <th>57</th>\n      <td>58</td>\n      <td>2.0</td>\n      <td>0</td>\n      <td>3</td>\n    </tr>\n    <tr>\n      <th>58</th>\n      <td>59</td>\n      <td>1.0</td>\n      <td>2</td>\n      <td>1</td>\n    </tr>\n    <tr>\n      <th>59</th>\n      <td>60</td>\n      <td>1.0</td>\n      <td>2</td>\n      <td>1</td>\n    </tr>\n    <tr>\n      <th>60</th>\n      <td>61</td>\n      <td>1.0</td>\n      <td>2</td>\n      <td>1</td>\n    </tr>\n  </tbody>\n</table>\n<p>61 rows × 4 columns</p>\n</div>"
     },
     "execution_count": 40,
     "metadata": {},
     "output_type": "execute_result"
    }
   ],
   "source": [
    "# Step 1: Aggregate answers by majority voting and count AnswerID = 1 and 2\n",
    "def majority_vote(answers):\n",
    "    counts = answers.value_counts()\n",
    "    if len(counts) > 1 and counts.iloc[0] == counts.iloc[1]:\n",
    "        return 0  # No majority, returning 0\n",
    "    else:\n",
    "        return counts.idxmax()  # Return the AnswerID with the maximum count\n",
    "\n",
    "aggregated_data = data.groupby('HITId')['AnswerID'].agg(majority_vote).reset_index()\n",
    "aggregated_data.rename(columns={'AnswerID': 'MajorityAnswer'}, inplace=True)\n",
    "\n",
    "# Count AnswerID = 1 and AnswerID = 2 for each HITId\n",
    "answer_counts = data.pivot_table(index='HITId', columns='AnswerID', aggfunc='size', fill_value=0)\n",
    "aggregated_data = aggregated_data.merge(answer_counts, left_on='HITId', right_index=True, how='left')\n",
    "\n",
    "# Rename columns for clarity\n",
    "aggregated_data.rename(columns={1: 'CountAnswerID1', 2: 'CountAnswerID2'}, inplace=True)\n",
    "\n",
    "aggregated_data"
   ],
   "metadata": {
    "collapsed": false
   }
  },
  {
   "cell_type": "code",
   "execution_count": 41,
   "outputs": [
    {
     "name": "stdout",
     "output_type": "stream",
     "text": [
      "Length of the aggregated dataset:  61\n"
     ]
    }
   ],
   "source": [
    "print('Length of the aggregated dataset: ', len(aggregated_data))"
   ],
   "metadata": {
    "collapsed": false
   }
  },
  {
   "cell_type": "code",
   "execution_count": 42,
   "outputs": [
    {
     "name": "stdout",
     "output_type": "stream",
     "text": [
      "7QT (21, 2)\n",
      "8QT (20, 2)\n",
      "9QT (20, 2)\n"
     ]
    },
    {
     "data": {
      "text/plain": "{'7QT': 0.1428571428571428,\n '8QT': 0.04000000000000009,\n '9QT': 0.26339285714285726}"
     },
     "execution_count": 42,
     "metadata": {},
     "output_type": "execute_result"
    }
   ],
   "source": [
    "import statsmodels.api as sm\n",
    "from statsmodels.stats.inter_rater import fleiss_kappa\n",
    "\n",
    "\n",
    "# Reformatting data for Fleiss' kappa\n",
    "# First, prepare the data by counting the number of each AnswerID for each HITTypeId\n",
    "formatted_for_kappa = data.groupby(['HITTypeId', 'HITId', 'AnswerID']).size().unstack(fill_value=0)\n",
    "\n",
    "# Compute Fleiss' kappa for each HITTypeId\n",
    "kappa_results = {}\n",
    "for hit_type, group in formatted_for_kappa.groupby(level=0):\n",
    "    # Here, we assume each row is a HITId and the columns are counts of each AnswerID\n",
    "    print(hit_type, group.shape)\n",
    "    try:\n",
    "        kappa = fleiss_kappa(group, method='fleiss')\n",
    "        kappa_results[hit_type] = kappa\n",
    "    except Exception as e:\n",
    "        kappa_results[hit_type] = str(e)\n",
    "\n",
    "# Display kappa results\n",
    "kappa_results"
   ],
   "metadata": {
    "collapsed": false
   }
  },
  {
   "cell_type": "code",
   "execution_count": 43,
   "outputs": [],
   "source": [
    "# Extension of aggregated_data with Entity, response and Fleiss' kappa\n",
    "inputs_and_type = data[['HITId', 'Input1ID', 'Input2ID', 'Input3ID', 'HITTypeId']].drop_duplicates()\n",
    "aggregated_data = pd.merge(aggregated_data, inputs_and_type, on='HITId', how='left')\n",
    "\n",
    "# Add Fleiss' kappa to the aggregated data\n",
    "aggregated_data['Kappa'] = aggregated_data['HITTypeId'].map(kappa_results)\n",
    "\n",
    "# save this dataframe in the directory crowd_data as crowd_data_aggregated.csv\n",
    "aggregated_data.to_csv('../dataset/crowd_data/crowd_data_aggregated.csv', index=False)"
   ],
   "metadata": {
    "collapsed": false
   }
  },
  {
   "cell_type": "code",
   "execution_count": 44,
   "outputs": [
    {
     "data": {
      "text/plain": "   HITId  MajorityAnswer  CountAnswerID1  CountAnswerID2   Input1ID Input2ID  \\\n0      1             0.0               1               1     Q11621    P2142   \n1      2             1.0               2               0    Q603545    P2142   \n2      3             0.0               1               1  Q16911843     P577   \n3      4             2.0               0               2    Q132863    P2142   \n4      5             1.0               2               0   Q1628022     P577   \n\n     Input3ID HITTypeId     Kappa  \n0   792910554       7QT  0.142857  \n1     4300000       7QT  0.142857  \n2  2014-01-18       7QT  0.142857  \n3   969023261       7QT  0.142857  \n4  1951-01-01       7QT  0.142857  ",
      "text/html": "<div>\n<style scoped>\n    .dataframe tbody tr th:only-of-type {\n        vertical-align: middle;\n    }\n\n    .dataframe tbody tr th {\n        vertical-align: top;\n    }\n\n    .dataframe thead th {\n        text-align: right;\n    }\n</style>\n<table border=\"1\" class=\"dataframe\">\n  <thead>\n    <tr style=\"text-align: right;\">\n      <th></th>\n      <th>HITId</th>\n      <th>MajorityAnswer</th>\n      <th>CountAnswerID1</th>\n      <th>CountAnswerID2</th>\n      <th>Input1ID</th>\n      <th>Input2ID</th>\n      <th>Input3ID</th>\n      <th>HITTypeId</th>\n      <th>Kappa</th>\n    </tr>\n  </thead>\n  <tbody>\n    <tr>\n      <th>0</th>\n      <td>1</td>\n      <td>0.0</td>\n      <td>1</td>\n      <td>1</td>\n      <td>Q11621</td>\n      <td>P2142</td>\n      <td>792910554</td>\n      <td>7QT</td>\n      <td>0.142857</td>\n    </tr>\n    <tr>\n      <th>1</th>\n      <td>2</td>\n      <td>1.0</td>\n      <td>2</td>\n      <td>0</td>\n      <td>Q603545</td>\n      <td>P2142</td>\n      <td>4300000</td>\n      <td>7QT</td>\n      <td>0.142857</td>\n    </tr>\n    <tr>\n      <th>2</th>\n      <td>3</td>\n      <td>0.0</td>\n      <td>1</td>\n      <td>1</td>\n      <td>Q16911843</td>\n      <td>P577</td>\n      <td>2014-01-18</td>\n      <td>7QT</td>\n      <td>0.142857</td>\n    </tr>\n    <tr>\n      <th>3</th>\n      <td>4</td>\n      <td>2.0</td>\n      <td>0</td>\n      <td>2</td>\n      <td>Q132863</td>\n      <td>P2142</td>\n      <td>969023261</td>\n      <td>7QT</td>\n      <td>0.142857</td>\n    </tr>\n    <tr>\n      <th>4</th>\n      <td>5</td>\n      <td>1.0</td>\n      <td>2</td>\n      <td>0</td>\n      <td>Q1628022</td>\n      <td>P577</td>\n      <td>1951-01-01</td>\n      <td>7QT</td>\n      <td>0.142857</td>\n    </tr>\n  </tbody>\n</table>\n</div>"
     },
     "execution_count": 44,
     "metadata": {},
     "output_type": "execute_result"
    }
   ],
   "source": [
    "aggregated_data.head()"
   ],
   "metadata": {
    "collapsed": false
   }
  },
  {
   "cell_type": "code",
   "execution_count": null,
   "outputs": [],
   "source": [],
   "metadata": {
    "collapsed": false
   }
  }
 ],
 "metadata": {
  "language_info": {
   "name": "python"
  }
 },
 "nbformat": 4,
 "nbformat_minor": 2
}
